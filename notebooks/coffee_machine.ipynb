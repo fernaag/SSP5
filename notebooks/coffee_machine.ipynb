{
 "cells": [
  {
   "cell_type": "markdown",
   "metadata": {},
   "source": [
    "# Very simple model\n",
    "This is my jupyter notebook from MESSAGEix workshop. If I double click on this \"Markdown\" cell, I can edit the text.\n"
   ]
  },
  {
   "cell_type": "code",
   "execution_count": null,
   "metadata": {},
   "outputs": [],
   "source": [
    "# This is a \"Code\" cell.\n",
    "# Importing required packages\n",
    "import ixmp                    # package for ix modeling platform\n",
    "import message_ix              # package for MESSAGEix model"
   ]
  },
  {
   "cell_type": "code",
   "execution_count": null,
   "metadata": {},
   "outputs": [],
   "source": [
    "# Loading the platform (and getting conected to a local database)\n",
    "mp = ixmp.Platform(dbtype='HSQLDB')\n",
    "# The path to my local database should be seen after running this cell"
   ]
  },
  {
   "cell_type": "code",
   "execution_count": null,
   "metadata": {},
   "outputs": [],
   "source": [
    "# Building a new, empty MESSAGEix scenario\n",
    "model = 'Simple_technology'\n",
    "scenario = 'test'\n",
    "new = message_ix.Scenario(mp, model, scenario,  version='new')"
   ]
  },
  {
   "cell_type": "code",
   "execution_count": null,
   "metadata": {},
   "outputs": [],
   "source": [
    "# Look for some information\n",
    "new.version\n",
    "new?\n",
    "# new??"
   ]
  },
  {
   "cell_type": "markdown",
   "metadata": {},
   "source": [
    "# Adding data to the model\n",
    "## 1) Declaring members of the sets"
   ]
  },
  {
   "cell_type": "code",
   "execution_count": null,
   "metadata": {},
   "outputs": [],
   "source": [
    "new.add_set('technology', 'coffee_maker')\n",
    "new.add_set('commodity', ['water', 'electr', 'coffee_beans', 'coffee_cup'])       # all members can be added at once\n",
    "new.add_set('level', ['pipe', 'storage', 'grid', 'useful'])"
   ]
  },
  {
   "cell_type": "code",
   "execution_count": null,
   "metadata": {},
   "outputs": [],
   "source": [
    "# Seeing members of a set\n",
    "new.set('commodity')"
   ]
  },
  {
   "cell_type": "code",
   "execution_count": null,
   "metadata": {},
   "outputs": [],
   "source": [
    "# Again, like before\n",
    "new.add_set('node', 'my_home')\n",
    "new.add_set('year', [2019, 2020])\n",
    "new.add_set('mode', 'normal')    # modes of operation of a technology"
   ]
  },
  {
   "cell_type": "code",
   "execution_count": null,
   "metadata": {},
   "outputs": [],
   "source": [
    "# listing all the sets (we don't have to add data for all)\n",
    "new.set_list()"
   ]
  },
  {
   "cell_type": "markdown",
   "metadata": {},
   "source": [
    "## 2. Adding data to parameters"
   ]
  },
  {
   "cell_type": "code",
   "execution_count": null,
   "metadata": {},
   "outputs": [],
   "source": [
    "# List of parameters\n",
    "new.par_list()\n",
    "# a python notation\n",
    "[x for x in new.par_list() if 'emission' in x]"
   ]
  },
  {
   "cell_type": "markdown",
   "metadata": {},
   "source": [
    "### Adding data to parameter \"demand\" \n",
    "We can always see the indexes of a parameter and make a table with those indexes (plus \"value\" and \"unit\"). The method is `idx_names()`\n"
   ]
  },
  {
   "cell_type": "code",
   "execution_count": null,
   "metadata": {},
   "outputs": [],
   "source": [
    "# Required indexes (sets) for parameter \"demand\"\n",
    "new.idx_names(\"demand\")"
   ]
  },
  {
   "cell_type": "code",
   "execution_count": null,
   "metadata": {},
   "outputs": [],
   "source": [
    "# Building the required table (python DataFrame)\n",
    "import pandas as pd\n",
    "df = pd.DataFrame({'node': 'my_home',\n",
    "                   'commodity': 'coffee_cup',\n",
    "                   'level': 'useful',\n",
    "                   'year': [2019, 2020],\n",
    "                   'value': [450, 500],    # cup of coffee per year\n",
    "                   'unit': '-',\n",
    "                   'time': 'year'\n",
    "                   })\n",
    "df"
   ]
  },
  {
   "cell_type": "code",
   "execution_count": null,
   "metadata": {},
   "outputs": [],
   "source": [
    "new.add_par('demand', df)\n",
    "new.par('demand')"
   ]
  },
  {
   "cell_type": "code",
   "execution_count": null,
   "metadata": {},
   "outputs": [],
   "source": [
    "# Adding data to the parameter \"output\" for the technology\n",
    "df = pd.DataFrame({'node_loc': 'my_home',\n",
    "                   'node_dest': 'my_home',\n",
    "                   'technology': 'coffee_maker',\n",
    "                   'commodity': 'coffee_cup',\n",
    "                   'level': 'useful',\n",
    "                   'year_vtg': [2019, 2020],   # once installed can be active only one period\n",
    "                   'year_act': [2019, 2020],\n",
    "                   'mode': 'normal',\n",
    "                   'value': 1,\n",
    "                   'unit': '-',\n",
    "                   'time': 'year',\n",
    "                   'time_dest': 'year',\n",
    "                    })\n",
    "new.add_par('output', df)"
   ]
  },
  {
   "cell_type": "code",
   "execution_count": null,
   "metadata": {},
   "outputs": [],
   "source": [
    "# Seeing the content of a parameter\n",
    "new.par('output')"
   ]
  },
  {
   "cell_type": "code",
   "execution_count": null,
   "metadata": {},
   "outputs": [],
   "source": [
    "# Saving the data of this scenario\n",
    "new.commit('I added some data')   # This message is optional\n",
    "# If needed to edit after saving the scenario\n",
    "# new.check_out()                 "
   ]
  },
  {
   "cell_type": "code",
   "execution_count": null,
   "metadata": {},
   "outputs": [],
   "source": [
    "new.version"
   ]
  },
  {
   "cell_type": "code",
   "execution_count": null,
   "metadata": {},
   "outputs": [],
   "source": [
    "# Lets' solve this simple scenario\n",
    "new.solve()"
   ]
  },
  {
   "cell_type": "code",
   "execution_count": null,
   "metadata": {},
   "outputs": [],
   "source": [
    "# Objective value (why is it zero?)\n",
    "new.var('OBJ')"
   ]
  },
  {
   "cell_type": "code",
   "execution_count": null,
   "metadata": {},
   "outputs": [],
   "source": [
    "# Activity of coffee maker\n",
    "new.var('ACT')"
   ]
  },
  {
   "cell_type": "code",
   "execution_count": null,
   "metadata": {},
   "outputs": [],
   "source": [
    "# NOTICE: remember to close the platform before openning in another session\n",
    "mp.close_db()"
   ]
  }
 ],
 "metadata": {
  "kernelspec": {
   "display_name": "Python 3",
   "language": "python",
   "name": "python3"
  },
  "language_info": {
   "codemirror_mode": {
    "name": "ipython",
    "version": 3
   },
   "file_extension": ".py",
   "mimetype": "text/x-python",
   "name": "python",
   "nbconvert_exporter": "python",
   "pygments_lexer": "ipython3",
   "version": "3.7.4"
  }
 },
 "nbformat": 4,
 "nbformat_minor": 2
}
