{
 "cells": [
  {
   "cell_type": "code",
   "execution_count": null,
   "metadata": {},
   "outputs": [],
   "source": [
    "# import packages\n",
    "import pandas as pd\n",
    "import ixmp\n",
    "import message_ix\n",
    "\n",
    "from utils.run_scenarios import *\n",
    "from utils.pp_db_to_xlsx import results_to_xlsx\n",
    "from utils.pp_plot_emissions import plot_emissions\n",
    "from utils.pp_plot_power_sector import plot_power_sector\n",
    "from utils.pp_plot_heatmaps import plot_heatmap_comparison\n",
    "from utils.pp_result_to_iamc import *\n",
    "#from utils.getResultsFromScenario.py import *\n",
    "\n",
    "def getResultsFromScenario(Model, name):\n",
    "\temissions = Model.var('EMISS')\n",
    "\tact = Model.var('ACT')\n",
    "\tcap = Model.var('CAP')\n",
    "\tcap_new = Model.var('CAP_NEW')\n",
    "\tstock = Model.var('STOCK')\n",
    "\tcapacity_new = Model.var('CAP_NEW')\n",
    "\tland = Model.var('LAND')\n",
    "\trel = Model.var('REL')\n",
    "\tdemand = Model.var('DEMAND')\n",
    "\tprice_commodity\t= Model.var('PRICE_COMMODITY')\n",
    "\tprice_emission = Model.var('PRICE_EMISSION')\n",
    "\tcost_nodal = Model.var('COST_NODAL')\n",
    "\tcost_nodal_net = Model.var('COST_NODAL_NET')\n",
    "\tgdp = Model.var('GDP')\n",
    "\ti = Model.var('I')\n",
    "\tc = Model.var('C')\n",
    "\t\n",
    "\tScenarioSpecificResults = ScenarioResults(name, emissions, act, cap, cap_new, stock, land, rel, demand, price_commodity,price_emission,cost_nodal,cost_nodal_net, gdp,i,c)\n",
    "\treturn ScenarioSpecificResults\n",
    "\n",
    "class ScenarioResults:\n",
    "\tdef __init__(self, name, emissions, act, cap, cap_new, stock, land, rel, demand, price_commodity,price_emission,cost_nodal,cost_nodal_net, gdp,i,c):\n",
    "\t\tself.name = name\n",
    "\t\tself.emissions = emissions\n",
    "\t\tself.capacity = cap\n",
    "\t\tself.activity = act\n",
    "\t\tself.stock = stock\n",
    "\t\tself.capacity_new = cap_new\n",
    "\t\tself.land = land\n",
    "\t\tself.rel = rel\n",
    "\t\tself.demand = demand\n",
    "\t\tself.price_commodity = price_commodity\n",
    "\t\tself.price_emission = price_emission\n",
    "\t\tself.cost_nodal = cost_nodal\n",
    "\t\tself.cost_nodal_net = cost_nodal_net\n",
    "\t\tself.gdp = gdp\n",
    "\t\tself.i = i\n",
    "\t\tself.c = c"
   ]
  },
  {
   "cell_type": "code",
   "execution_count": null,
   "metadata": {},
   "outputs": [],
   "source": [
    "# define database and the baseline scenario\n",
    "model = 'MESSAGE South Africa'\n",
    "baseline = 'baseline'\n",
    "database = 'message_sa'"
   ]
  },
  {
   "cell_type": "code",
   "execution_count": null,
   "metadata": {},
   "outputs": [],
   "source": [
    "# launch a platform to access the database\n",
    "mp = ixmp.Platform(dbprops=f'db/{database}', dbtype='HSQLDB')\n",
    "base = message_ix.Scenario(mp, model=model, scenario=baseline)\n",
    "#base.solve(model='MESSAGE')"
   ]
  },
  {
   "cell_type": "code",
   "execution_count": null,
   "metadata": {},
   "outputs": [],
   "source": [
    "# run baseline scenario (if not done yet)\n",
    "base.solve(model='MESSAGE')"
   ]
  },
  {
   "cell_type": "code",
   "execution_count": null,
   "metadata": {},
   "outputs": [],
   "source": [
    "# clone baseline scenario and check out for modification\n",
    "scenario_SSP5_baseline = \"SSP5_baseline\"\n",
    "scen_SSP5_baseline = base.clone(model, scenario_SSP5_baseline, keep_solution=False)\n",
    "scen_SSP5_baseline.set_as_default()\n",
    "scen_SSP5_baseline.check_out()\n",
    "# read demand dataframe from csv\n",
    "filename_in = \"Data/SSP5/Baseline/demand_in_SSP5_Baseline.csv\"\n",
    "df_new = pd.read_csv(filename_in)\n",
    "#print(df_new)\n",
    "# add new demand to ixmp \n",
    "scen_SSP5_baseline.add_par('demand', df_new)\n",
    "# commit changed scenario to ixmp\n",
    "scen_SSP5_baseline.commit('adjusted South Africa demand')\n",
    "# solve changed South Africa scenario\n",
    "scen_SSP5_baseline.solve()"
   ]
  },
  {
   "cell_type": "code",
   "execution_count": null,
   "metadata": {},
   "outputs": [],
   "source": [
    "# Change parameters for RCP19\n",
    "scenario_SSP5_RCP19 = \"SSP5_RCP19\"\n",
    "scen_SSP5_rcp19 = base.clone(model, scenario_SSP5_RCP19, keep_solution=False)\n",
    "scen_SSP5_rcp19.set_as_default()\n",
    "scen_SSP5_rcp19.check_out()\n",
    "# read demand dataframe from csv\n",
    "filename_in = \"Data/SSP5/RCP19/demand_in_SSP5_RCP19.csv\"\n",
    "df_new = pd.read_csv(filename_in)\n",
    "# add new demand to ixmp \n",
    "scen_SSP5_rcp19.add_par('demand', df_new)\n",
    "# commit changed scenario to ixmp\n",
    "scen_SSP5_rcp19.commit('adjusted South Africa demand')\n",
    "# solve changed South Africa scenario\n",
    "scen_SSP5_rcp19.solve()"
   ]
  },
  {
   "cell_type": "code",
   "execution_count": null,
   "metadata": {},
   "outputs": [],
   "source": [
    "# Change parameters for RCP26\n",
    "scenario_SSP5_RCP26 = \"SSP5_RCP26\"\n",
    "scen_SSP5_rcp26 = base.clone(model, scenario_SSP5_RCP26, keep_solution=False)\n",
    "scen_SSP5_rcp26.set_as_default()\n",
    "scen_SSP5_rcp26.check_out()\n",
    "# read demand dataframe from csv\n",
    "filename_in = \"Data/SSP5/RCP26/demand_in_SSP5_RCP26.csv\"\n",
    "df_new = pd.read_csv(filename_in)\n",
    "# add new demand to ixmp \n",
    "scen_SSP5_rcp26.add_par('demand', df_new)\n",
    "# commit changed scenario to ixmp\n",
    "scen_SSP5_rcp26.commit('adjusted South Africa demand')\n",
    "# solve changed South Africa scenario\n",
    "scen_SSP5_rcp26.solve()"
   ]
  },
  {
   "cell_type": "code",
   "execution_count": null,
   "metadata": {},
   "outputs": [],
   "source": [
    "# Change parameters for RCP34\n",
    "scenario_SSP5_RCP34 = \"SSP5_RCP34\"\n",
    "scen_SSP5_rcp34 = base.clone(model, scenario_SSP5_RCP34, keep_solution=False)\n",
    "scen_SSP5_rcp34.set_as_default()\n",
    "scen_SSP5_rcp34.check_out()\n",
    "# read demand dataframe from csv\n",
    "filename_in = \"Data/SSP5/RCP34/demand_in_SSP5_RCP34.csv\"\n",
    "df_new = pd.read_csv(filename_in)\n",
    "#print(df_new)\n",
    "# add new demand to ixmp \n",
    "scen_SSP5_rcp34.add_par('demand', df_new)\n",
    "# commit changed scenario to ixmp\n",
    "scen_SSP5_rcp34.commit('adjusted South Africa demand')\n",
    "# solve changed South Africa scenario\n",
    "scen_SSP5_rcp34.solve()"
   ]
  },
  {
   "cell_type": "code",
   "execution_count": null,
   "metadata": {},
   "outputs": [],
   "source": [
    "# Change parameters for RCP45\n",
    "scenario_SSP5_RCP45 = \"SSP5_RCP45\"\n",
    "scen_SSP5_rcp45 = base.clone(model, scenario_SSP5_RCP45, keep_solution=False)\n",
    "scen_SSP5_rcp45.set_as_default()\n",
    "scen_SSP5_rcp45.check_out()\n",
    "# read demand dataframe from csv\n",
    "filename_in = \"Data/SSP5/RCP45/demand_in_SSP5_RCP45.csv\"\n",
    "df_new = pd.read_csv(filename_in)\n",
    "# add new demand to ixmp \n",
    "scen_SSP5_rcp45.add_par('demand', df_new)\n",
    "# commit changed scenario to ixmp\n",
    "scen_SSP5_rcp45.commit('adjusted South Africa demand')\n",
    "# solve changed South Africa scenario\n",
    "scen_SSP5_rcp45.solve()"
   ]
  },
  {
   "cell_type": "code",
   "execution_count": null,
   "metadata": {},
   "outputs": [],
   "source": [
    "# Change parameters for RCP60\n",
    "scenario_SSP5_RCP60 = \"SSP5_RCP60\"\n",
    "scen_SSP5_rcp60 = base.clone(model, scenario_SSP5_RCP60, keep_solution=False)\n",
    "scen_SSP5_rcp60.set_as_default()\n",
    "scen_SSP5_rcp60.check_out()\n",
    "# read demand dataframe from csv\n",
    "filename_in = \"Data/SSP5/RCP60/demand_in_SSP5_RCP60.csv\"\n",
    "df_new = pd.read_csv(filename_in)\n",
    "# add new demand to ixmp \n",
    "scen_SSP5_rcp60.add_par('demand', df_new)\n",
    "# commit changed scenario to ixmp\n",
    "scen_SSP5_rcp60.commit('adjusted South Africa demand')\n",
    "# solve changed South Africa scenario\n",
    "scen_SSP5_rcp60.solve()"
   ]
  },
  {
   "cell_type": "code",
   "execution_count": null,
   "metadata": {},
   "outputs": [],
   "source": [
    "#Export results\n",
    "results_to_iamc_jsn(model,scen_SSP5_baseline,scenario_SSP5_baseline,'South Africa',database)\n",
    "results_to_iamc_jsn(model,scen_SSP5_rcp19, scenario_SSP5_RCP19,'South Africa',database)\n",
    "results_to_iamc_jsn(model,scen_SSP5_rcp26, scenario_SSP5_RCP26,'South Africa',database)\n",
    "results_to_iamc_jsn(model,scen_SSP5_rcp34, scenario_SSP5_RCP34,'South Africa',database)\n",
    "results_to_iamc_jsn(model,scen_SSP5_rcp45, scenario_SSP5_RCP45,'South Africa',database)\n",
    "results_to_iamc_jsn(model,scen_SSP5_rcp60, scenario_SSP5_RCP60,'South Africa',database)"
   ]
  },
  {
   "cell_type": "code",
   "execution_count": null,
   "metadata": {},
   "outputs": [],
   "source": [
    "# check which parameters exist\n",
    "#scen.par_list()\n",
    "# read demand parameter into dataframe\n",
    "#df = scen.par('demand')\n",
    "# write demand dataframe to csv file \n",
    "#file_name = 'demand_out.csv'\n",
    "#df.to_csv(file_name)\n",
    "\n",
    "#print(df_new)\n",
    "#print(df)\n",
    "# look at activity variable\n",
    "#print(scen.var('ACT'))\n",
    "#print(base.var('ACT'))\n",
    "#print(scen.par('demand'))\n",
    "#print(base.par('demand'))\n",
    "#scen.to_excel('testOut.xlsx')\n",
    "#shale_cost = [1, 10, 30, 1000]\n",
    "#carbon_cost = [0, 5, 15, 30]\n",
    "#results_to_xlsx(base, baseline, database, shale_cost, carbon_cost)\n",
    "#scen.var_list()\n",
    "#test_ssp5 = getResultsFromScenario(scen)\n",
    "#test_ssp2 = getResultsFromScenario(base)\n",
    "#print(test_ssp2.emissions)\n",
    "#print(test_ssp5.emissions)\n",
    "#print( scen.var('EMISS'))"
   ]
  },
  {
   "cell_type": "code",
   "execution_count": null,
   "metadata": {},
   "outputs": [],
   "source": [
    "# close ixmp connection\n",
    "mp.close_db()"
   ]
  },
  {
   "cell_type": "code",
   "execution_count": null,
   "metadata": {},
   "outputs": [],
   "source": []
  }
 ],
 "metadata": {
  "kernelspec": {
   "display_name": "Python 3",
   "language": "python",
   "name": "python3"
  },
  "language_info": {
   "codemirror_mode": {
    "name": "ipython",
    "version": 3
   },
   "file_extension": ".py",
   "mimetype": "text/x-python",
   "name": "python",
   "nbconvert_exporter": "python",
   "pygments_lexer": "ipython3",
   "version": "3.7.4"
  }
 },
 "nbformat": 4,
 "nbformat_minor": 4
}
