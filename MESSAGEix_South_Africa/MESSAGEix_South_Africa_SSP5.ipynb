{
 "cells": [
  {
   "cell_type": "code",
   "execution_count": null,
   "metadata": {},
   "outputs": [],
   "source": [
    "# import packages\n",
    "import pandas as pd\n",
    "import ixmp\n",
    "import message_ix\n",
    "\n",
    "from utils.run_scenarios import *\n",
    "from utils.pp_db_to_xlsx import results_to_xlsx\n",
    "from utils.pp_plot_emissions import plot_emissions\n",
    "from utils.pp_plot_power_sector import plot_power_sector\n",
    "from utils.pp_plot_heatmaps import plot_heatmap_comparison\n",
    "#from utils.getResultsFromScenario.py import *\n",
    "\n",
    "def getResultsFromScenario(Model):\n",
    "\temissions = Model.var('EMISS')\n",
    "\tact = Model.var('ACT')\n",
    "\tcap = Model.var('CAP')\n",
    "\t\n",
    "\tScenarioSpecificResults = ScenarioResults(emissions, act, cap)\n",
    "\treturn ScenarioSpecificResults\n",
    "\n",
    "class ScenarioResults:\n",
    "\tdef __init__(self, emissions, act, cap):\n",
    "\t\tself.emissions = emissions\n",
    "\t\tself.capacity = cap\n",
    "\t\tself.activity = act\n",
    "\t"
   ]
  },
  {
   "cell_type": "code",
   "execution_count": null,
   "metadata": {},
   "outputs": [],
   "source": [
    "# define database and the baseline scenario\n",
    "model = 'MESSAGE South Africa'\n",
    "baseline = 'baseline'\n",
    "database = 'message_sa'"
   ]
  },
  {
   "cell_type": "code",
   "execution_count": null,
   "metadata": {},
   "outputs": [],
   "source": [
    "# launch a platform to access the database\n",
    "mp = ixmp.Platform(dbprops=f'db/{database}', dbtype='HSQLDB')\n",
    "base = message_ix.Scenario(mp, model=model, scenario=baseline)\n",
    "#base.solve(model='MESSAGE')"
   ]
  },
  {
   "cell_type": "code",
   "execution_count": null,
   "metadata": {},
   "outputs": [],
   "source": [
    "# run baseline scenario (if not done yet)\n",
    "base.solve(model='MESSAGE')"
   ]
  },
  {
   "cell_type": "code",
   "execution_count": null,
   "metadata": {},
   "outputs": [],
   "source": [
    "# clone baseline scenario and check out for modification\n",
    "scenario = \"baseline_new\"\n",
    "scen = base.clone(model, scenario, keep_solution=False)\n",
    "scen.set_as_default()\n",
    "scen.check_out()"
   ]
  },
  {
   "cell_type": "code",
   "execution_count": null,
   "metadata": {},
   "outputs": [],
   "source": [
    "# check which parameters exist\n",
    "scen.par_list()"
   ]
  },
  {
   "cell_type": "code",
   "execution_count": null,
   "metadata": {},
   "outputs": [],
   "source": [
    "# read demand parameter into dataframe\n",
    "df = scen.par('demand')"
   ]
  },
  {
   "cell_type": "code",
   "execution_count": null,
   "metadata": {},
   "outputs": [],
   "source": [
    "# write demand dataframe to csv file \n",
    "file_name = 'demand_out.csv'\n",
    "df.to_csv(file_name)"
   ]
  },
  {
   "cell_type": "code",
   "execution_count": null,
   "metadata": {},
   "outputs": [],
   "source": [
    "# read demand dataframe from csv\n",
    "filename_in = \"demand_in.csv\"\n",
    "df_new = pd.read_csv(filename_in)"
   ]
  },
  {
   "cell_type": "code",
   "execution_count": null,
   "metadata": {},
   "outputs": [],
   "source": [
    "print(df_new)\n",
    "print(df)"
   ]
  },
  {
   "cell_type": "code",
   "execution_count": null,
   "metadata": {},
   "outputs": [],
   "source": [
    "# add new demand to ixmp \n",
    "scen.add_par('demand', df_new)"
   ]
  },
  {
   "cell_type": "code",
   "execution_count": null,
   "metadata": {},
   "outputs": [],
   "source": [
    "# commit changed scenario to ixmp\n",
    "scen.commit('adjusted South Africa demand')"
   ]
  },
  {
   "cell_type": "code",
   "execution_count": null,
   "metadata": {},
   "outputs": [],
   "source": [
    "# solve changed South Africa scenario\n",
    "scen.solve()"
   ]
  },
  {
   "cell_type": "code",
   "execution_count": null,
   "metadata": {},
   "outputs": [],
   "source": [
    "# look at activity variable\n",
    "print(scen.var('ACT'))\n",
    "print(base.var('ACT'))"
   ]
  },
  {
   "cell_type": "code",
   "execution_count": null,
   "metadata": {},
   "outputs": [],
   "source": [
    "#print(scen.par('demand'))\n",
    "#print(base.par('demand'))\n",
    "#scen.to_excel('testOut.xlsx')\n",
    "#shale_cost = [1, 10, 30, 1000]\n",
    "#carbon_cost = [0, 5, 15, 30]\n",
    "#results_to_xlsx(base, baseline, database, shale_cost, carbon_cost)\n",
    "#scen.var_list()\n",
    "\n",
    "\n",
    "test_ssp5 = getResultsFromScenario(scen)\n",
    "test_ssp2 = getResultsFromScenario(base)\n",
    "print(test_ssp2.emissions)\n",
    "print(test_ssp5.emissions)\n"
   ]
  },
  {
   "cell_type": "code",
   "execution_count": null,
   "metadata": {},
   "outputs": [],
   "source": [
    "print( scen.var('EMISS'))"
   ]
  },
  {
   "cell_type": "code",
   "execution_count": null,
   "metadata": {},
   "outputs": [],
   "source": [
    "# close ixmp connection\n",
    "mp.close_db()"
   ]
  },
  {
   "cell_type": "code",
   "execution_count": null,
   "metadata": {},
   "outputs": [],
   "source": []
  }
 ],
 "metadata": {
  "kernelspec": {
   "display_name": "Python 3",
   "language": "python",
   "name": "python3"
  },
  "language_info": {
   "codemirror_mode": {
    "name": "ipython",
    "version": 3
   },
   "file_extension": ".py",
   "mimetype": "text/x-python",
   "name": "python",
   "nbconvert_exporter": "python",
   "pygments_lexer": "ipython3",
   "version": "3.7.4"
  }
 },
 "nbformat": 4,
 "nbformat_minor": 4
}
