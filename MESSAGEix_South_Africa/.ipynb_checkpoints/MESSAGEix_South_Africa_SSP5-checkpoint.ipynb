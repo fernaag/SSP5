{
 "cells": [
  {
   "cell_type": "code",
   "execution_count": 55,
   "metadata": {},
   "outputs": [
    {
     "ename": "ModuleNotFoundError",
     "evalue": "No module named 'getResultsFromScenario.py'; 'getResultsFromScenario' is not a package",
     "output_type": "error",
     "traceback": [
      "\u001b[1;31m---------------------------------------------------------------------------\u001b[0m",
      "\u001b[1;31mModuleNotFoundError\u001b[0m                       Traceback (most recent call last)",
      "\u001b[1;32m<ipython-input-55-246d4d441670>\u001b[0m in \u001b[0;36m<module>\u001b[1;34m\u001b[0m\n\u001b[0;32m      9\u001b[0m \u001b[1;32mfrom\u001b[0m \u001b[0mutils\u001b[0m\u001b[1;33m.\u001b[0m\u001b[0mpp_plot_power_sector\u001b[0m \u001b[1;32mimport\u001b[0m \u001b[0mplot_power_sector\u001b[0m\u001b[1;33m\u001b[0m\u001b[1;33m\u001b[0m\u001b[0m\n\u001b[0;32m     10\u001b[0m \u001b[1;32mfrom\u001b[0m \u001b[0mutils\u001b[0m\u001b[1;33m.\u001b[0m\u001b[0mpp_plot_heatmaps\u001b[0m \u001b[1;32mimport\u001b[0m \u001b[0mplot_heatmap_comparison\u001b[0m\u001b[1;33m\u001b[0m\u001b[1;33m\u001b[0m\u001b[0m\n\u001b[1;32m---> 11\u001b[1;33m \u001b[1;32mfrom\u001b[0m \u001b[0mgetResultsFromScenario\u001b[0m\u001b[1;33m.\u001b[0m\u001b[0mpy\u001b[0m \u001b[1;32mimport\u001b[0m \u001b[1;33m*\u001b[0m\u001b[1;33m\u001b[0m\u001b[1;33m\u001b[0m\u001b[0m\n\u001b[0m",
      "\u001b[1;31mModuleNotFoundError\u001b[0m: No module named 'getResultsFromScenario.py'; 'getResultsFromScenario' is not a package"
     ]
    }
   ],
   "source": [
    "# import packages\n",
    "import pandas as pd\n",
    "import ixmp\n",
    "import message_ix\n",
    "\n",
    "from utils.run_scenarios import *\n",
    "from utils.pp_db_to_xlsx import results_to_xlsx\n",
    "from utils.pp_plot_emissions import plot_emissions\n",
    "from utils.pp_plot_power_sector import plot_power_sector\n",
    "from utils.pp_plot_heatmaps import plot_heatmap_comparison\n",
    "from utils.getResultsFromScenario.py import *"
   ]
  },
  {
   "cell_type": "code",
   "execution_count": 2,
   "metadata": {},
   "outputs": [],
   "source": [
    "# define database and the baseline scenario\n",
    "model = 'MESSAGE South Africa'\n",
    "baseline = 'baseline'\n",
    "database = 'message_sa'"
   ]
  },
  {
   "cell_type": "code",
   "execution_count": 3,
   "metadata": {},
   "outputs": [
    {
     "name": "stderr",
     "output_type": "stream",
     "text": [
      "C:\\Users\\jansn\\AppData\\Local\\Continuum\\anaconda3\\lib\\site-packages\\jpype\\_core.py:210: UserWarning: \n",
      "-------------------------------------------------------------------------------\n",
      "Deprecated: convertStrings was not specified when starting the JVM. The default\n",
      "behavior in JPype will be False starting in JPype 0.8. The recommended setting\n",
      "for new code is convertStrings=False.  The legacy value of True was assumed for\n",
      "this session. If you are a user of an application that reported this warning,\n",
      "please file a ticket with the developer.\n",
      "-------------------------------------------------------------------------------\n",
      "\n",
      "  \"\"\")\n",
      "INFO:root:launching ixmp.Platform with local HSQLDB database at 'db/message_sa'\n"
     ]
    }
   ],
   "source": [
    "# launch a platform to access the database\n",
    "mp = ixmp.Platform(dbprops=f'db/{database}', dbtype='HSQLDB')\n",
    "base = message_ix.Scenario(mp, model=model, scenario=baseline)\n",
    "#base.solve(model='MESSAGE')"
   ]
  },
  {
   "cell_type": "code",
   "execution_count": 4,
   "metadata": {},
   "outputs": [
    {
     "ename": "ValueError",
     "evalue": "('This Scenario has already been solved, ', 'use `remove_solution()` first!')",
     "output_type": "error",
     "traceback": [
      "\u001b[1;31m---------------------------------------------------------------------------\u001b[0m",
      "\u001b[1;31mValueError\u001b[0m                                Traceback (most recent call last)",
      "\u001b[1;32m<ipython-input-4-e639ead0ca64>\u001b[0m in \u001b[0;36m<module>\u001b[1;34m\u001b[0m\n\u001b[0;32m      1\u001b[0m \u001b[1;31m# run baseline scenario (if not done yet)\u001b[0m\u001b[1;33m\u001b[0m\u001b[1;33m\u001b[0m\u001b[1;33m\u001b[0m\u001b[0m\n\u001b[1;32m----> 2\u001b[1;33m \u001b[0mbase\u001b[0m\u001b[1;33m.\u001b[0m\u001b[0msolve\u001b[0m\u001b[1;33m(\u001b[0m\u001b[0mmodel\u001b[0m\u001b[1;33m=\u001b[0m\u001b[1;34m'MESSAGE'\u001b[0m\u001b[1;33m)\u001b[0m\u001b[1;33m\u001b[0m\u001b[1;33m\u001b[0m\u001b[0m\n\u001b[0m",
      "\u001b[1;32m~\\AppData\\Local\\Continuum\\anaconda3\\lib\\site-packages\\message_ix\\core.py\u001b[0m in \u001b[0;36msolve\u001b[1;34m(self, model, solve_options, **kwargs)\u001b[0m\n\u001b[0;32m    363\u001b[0m         \u001b[1;32mwith\u001b[0m \u001b[0mopen\u001b[0m\u001b[1;33m(\u001b[0m\u001b[0mfname\u001b[0m\u001b[1;33m,\u001b[0m \u001b[1;34m'w'\u001b[0m\u001b[1;33m)\u001b[0m \u001b[1;32mas\u001b[0m \u001b[0mf\u001b[0m\u001b[1;33m:\u001b[0m\u001b[1;33m\u001b[0m\u001b[1;33m\u001b[0m\u001b[0m\n\u001b[0;32m    364\u001b[0m             \u001b[0mf\u001b[0m\u001b[1;33m.\u001b[0m\u001b[0mwritelines\u001b[0m\u001b[1;33m(\u001b[0m\u001b[0mlines\u001b[0m\u001b[1;33m)\u001b[0m\u001b[1;33m\u001b[0m\u001b[1;33m\u001b[0m\u001b[0m\n\u001b[1;32m--> 365\u001b[1;33m         \u001b[0mret\u001b[0m \u001b[1;33m=\u001b[0m \u001b[0msuper\u001b[0m\u001b[1;33m(\u001b[0m\u001b[0mScenario\u001b[0m\u001b[1;33m,\u001b[0m \u001b[0mself\u001b[0m\u001b[1;33m)\u001b[0m\u001b[1;33m.\u001b[0m\u001b[0msolve\u001b[0m\u001b[1;33m(\u001b[0m\u001b[0mmodel\u001b[0m\u001b[1;33m=\u001b[0m\u001b[0mmodel\u001b[0m\u001b[1;33m,\u001b[0m \u001b[1;33m**\u001b[0m\u001b[0mkwargs\u001b[0m\u001b[1;33m)\u001b[0m\u001b[1;33m\u001b[0m\u001b[1;33m\u001b[0m\u001b[0m\n\u001b[0m\u001b[0;32m    366\u001b[0m         \u001b[0mos\u001b[0m\u001b[1;33m.\u001b[0m\u001b[0mremove\u001b[0m\u001b[1;33m(\u001b[0m\u001b[0mfname\u001b[0m\u001b[1;33m)\u001b[0m\u001b[1;33m\u001b[0m\u001b[1;33m\u001b[0m\u001b[0m\n\u001b[0;32m    367\u001b[0m         \u001b[1;32mreturn\u001b[0m \u001b[0mret\u001b[0m\u001b[1;33m\u001b[0m\u001b[1;33m\u001b[0m\u001b[0m\n",
      "\u001b[1;32m~\\AppData\\Local\\Continuum\\anaconda3\\lib\\site-packages\\ixmp\\core.py\u001b[0m in \u001b[0;36msolve\u001b[1;34m(self, model, case, model_file, in_file, out_file, solve_args, comment, var_list, equ_list, check_solution, callback, cb_kwargs)\u001b[0m\n\u001b[0;32m   1367\u001b[0m         \u001b[1;32mif\u001b[0m \u001b[0mself\u001b[0m\u001b[1;33m.\u001b[0m\u001b[0mhas_solution\u001b[0m\u001b[1;33m(\u001b[0m\u001b[1;33m)\u001b[0m\u001b[1;33m:\u001b[0m\u001b[1;33m\u001b[0m\u001b[1;33m\u001b[0m\u001b[0m\n\u001b[0;32m   1368\u001b[0m             raise ValueError('This Scenario has already been solved, ',\n\u001b[1;32m-> 1369\u001b[1;33m                              'use `remove_solution()` first!')\n\u001b[0m\u001b[0;32m   1370\u001b[0m \u001b[1;33m\u001b[0m\u001b[0m\n\u001b[0;32m   1371\u001b[0m         \u001b[0mmodel\u001b[0m \u001b[1;33m=\u001b[0m \u001b[0mstr\u001b[0m\u001b[1;33m(\u001b[0m\u001b[0mharmonize_path\u001b[0m\u001b[1;33m(\u001b[0m\u001b[0mmodel\u001b[0m\u001b[1;33m)\u001b[0m\u001b[1;33m)\u001b[0m\u001b[1;33m\u001b[0m\u001b[1;33m\u001b[0m\u001b[0m\n",
      "\u001b[1;31mValueError\u001b[0m: ('This Scenario has already been solved, ', 'use `remove_solution()` first!')"
     ]
    }
   ],
   "source": [
    "# run baseline scenario (if not done yet)\n",
    "base.solve(model='MESSAGE')"
   ]
  },
  {
   "cell_type": "code",
   "execution_count": 19,
   "metadata": {},
   "outputs": [],
   "source": [
    "# clone baseline scenario and check out for modification\n",
    "scenario = \"baseline_new\"\n",
    "scen = base.clone(model, scenario, keep_solution=False)\n",
    "scen.set_as_default()\n",
    "scen.check_out()"
   ]
  },
  {
   "cell_type": "code",
   "execution_count": 6,
   "metadata": {},
   "outputs": [
    {
     "data": {
      "text/plain": [
       "array(['commodity_stock', 'demand', 'resource_cost', 'resource_remaining',\n",
       "       'bound_extraction_up', 'resource_volume', 'technical_lifetime',\n",
       "       'capacity_factor', 'operation_factor', 'min_utilization_factor',\n",
       "       'inv_cost', 'fix_cost', 'var_cost', 'output', 'input',\n",
       "       'abs_cost_new_capacity_soft_up', 'abs_cost_new_capacity_soft_lo',\n",
       "       'level_cost_new_capacity_soft_up',\n",
       "       'level_cost_new_capacity_soft_lo', 'abs_cost_activity_soft_up',\n",
       "       'abs_cost_activity_soft_lo', 'level_cost_activity_soft_up',\n",
       "       'level_cost_activity_soft_lo', 'bound_new_capacity_up',\n",
       "       'bound_new_capacity_lo', 'bound_total_capacity_up',\n",
       "       'bound_total_capacity_lo', 'bound_activity_up',\n",
       "       'bound_activity_lo', 'initial_new_capacity_up',\n",
       "       'growth_new_capacity_up', 'soft_new_capacity_up',\n",
       "       'initial_new_capacity_lo', 'growth_new_capacity_lo',\n",
       "       'soft_new_capacity_lo', 'initial_activity_up',\n",
       "       'growth_activity_up', 'soft_activity_up', 'initial_activity_lo',\n",
       "       'growth_activity_lo', 'soft_activity_lo', 'emission_factor',\n",
       "       'construction_time', 'renewable_potential',\n",
       "       'renewable_capacity_factor', 'reliability_factor',\n",
       "       'peak_load_factor', 'flexibility_factor', 'rating_bin', 'tax',\n",
       "       'subsidy', 'historical_emission', 'emission_scaling',\n",
       "       'bound_emission', 'tax_emission', 'land_cost', 'land_input',\n",
       "       'land_output', 'land_use', 'land_emission', 'initial_land_scen_up',\n",
       "       'growth_land_scen_up', 'initial_land_scen_lo',\n",
       "       'growth_land_scen_lo', 'initial_land_up', 'dynamic_land_up',\n",
       "       'growth_land_up', 'initial_land_lo', 'dynamic_land_lo',\n",
       "       'growth_land_lo', 'relation_upper', 'relation_lower',\n",
       "       'relation_cost', 'relation_new_capacity',\n",
       "       'relation_total_capacity', 'relation_activity', 'duration_period',\n",
       "       'duration_time', 'interestrate', 'historical_extraction',\n",
       "       'historical_new_capacity', 'historical_activity',\n",
       "       'historical_land', 'ref_extraction', 'ref_new_capacity',\n",
       "       'ref_activity', 'ref_relation', 'fixed_extraction', 'fixed_stock',\n",
       "       'fixed_new_capacity', 'fixed_capacity', 'fixed_activity',\n",
       "       'fixed_land', 'historical_gdp', 'share_commodity_up',\n",
       "       'share_commodity_lo', 'share_mode_up', 'share_mode_lo',\n",
       "       'addon_conversion', 'addon_up', 'addon_lo', 'MERtoPPP', 'aeei',\n",
       "       'cost_MESSAGE', 'demand_MESSAGE', 'depr', 'drate', 'esub',\n",
       "       'gdp_calibrate', 'grow', 'investment_upper', 'kgdp', 'kpvs',\n",
       "       'lakl', 'lotol', 'p_ref', 'prfconst', 'price_MESSAGE'],\n",
       "      dtype='<U31')"
      ]
     },
     "execution_count": 6,
     "metadata": {},
     "output_type": "execute_result"
    }
   ],
   "source": [
    "# check which parameters exist\n",
    "scen.par_list()"
   ]
  },
  {
   "cell_type": "code",
   "execution_count": 7,
   "metadata": {},
   "outputs": [],
   "source": [
    "# read demand parameter into dataframe\n",
    "df = scen.par('demand')"
   ]
  },
  {
   "cell_type": "code",
   "execution_count": 8,
   "metadata": {},
   "outputs": [
    {
     "ename": "PermissionError",
     "evalue": "[Errno 13] Permission denied: 'demand_out.csv'",
     "output_type": "error",
     "traceback": [
      "\u001b[1;31m---------------------------------------------------------------------------\u001b[0m",
      "\u001b[1;31mPermissionError\u001b[0m                           Traceback (most recent call last)",
      "\u001b[1;32m<ipython-input-8-2dedac5c50dd>\u001b[0m in \u001b[0;36m<module>\u001b[1;34m\u001b[0m\n\u001b[0;32m      1\u001b[0m \u001b[1;31m# write demand dataframe to csv file\u001b[0m\u001b[1;33m\u001b[0m\u001b[1;33m\u001b[0m\u001b[1;33m\u001b[0m\u001b[0m\n\u001b[0;32m      2\u001b[0m \u001b[0mfile_name\u001b[0m \u001b[1;33m=\u001b[0m \u001b[1;34m'demand_out.csv'\u001b[0m\u001b[1;33m\u001b[0m\u001b[1;33m\u001b[0m\u001b[0m\n\u001b[1;32m----> 3\u001b[1;33m \u001b[0mdf\u001b[0m\u001b[1;33m.\u001b[0m\u001b[0mto_csv\u001b[0m\u001b[1;33m(\u001b[0m\u001b[0mfile_name\u001b[0m\u001b[1;33m)\u001b[0m\u001b[1;33m\u001b[0m\u001b[1;33m\u001b[0m\u001b[0m\n\u001b[0m",
      "\u001b[1;32m~\\AppData\\Local\\Continuum\\anaconda3\\lib\\site-packages\\pandas\\core\\generic.py\u001b[0m in \u001b[0;36mto_csv\u001b[1;34m(self, path_or_buf, sep, na_rep, float_format, columns, header, index, index_label, mode, encoding, compression, quoting, quotechar, line_terminator, chunksize, date_format, doublequote, escapechar, decimal)\u001b[0m\n\u001b[0;32m   3226\u001b[0m             \u001b[0mdecimal\u001b[0m\u001b[1;33m=\u001b[0m\u001b[0mdecimal\u001b[0m\u001b[1;33m,\u001b[0m\u001b[1;33m\u001b[0m\u001b[1;33m\u001b[0m\u001b[0m\n\u001b[0;32m   3227\u001b[0m         )\n\u001b[1;32m-> 3228\u001b[1;33m         \u001b[0mformatter\u001b[0m\u001b[1;33m.\u001b[0m\u001b[0msave\u001b[0m\u001b[1;33m(\u001b[0m\u001b[1;33m)\u001b[0m\u001b[1;33m\u001b[0m\u001b[1;33m\u001b[0m\u001b[0m\n\u001b[0m\u001b[0;32m   3229\u001b[0m \u001b[1;33m\u001b[0m\u001b[0m\n\u001b[0;32m   3230\u001b[0m         \u001b[1;32mif\u001b[0m \u001b[0mpath_or_buf\u001b[0m \u001b[1;32mis\u001b[0m \u001b[1;32mNone\u001b[0m\u001b[1;33m:\u001b[0m\u001b[1;33m\u001b[0m\u001b[1;33m\u001b[0m\u001b[0m\n",
      "\u001b[1;32m~\\AppData\\Local\\Continuum\\anaconda3\\lib\\site-packages\\pandas\\io\\formats\\csvs.py\u001b[0m in \u001b[0;36msave\u001b[1;34m(self)\u001b[0m\n\u001b[0;32m    181\u001b[0m                 \u001b[0mself\u001b[0m\u001b[1;33m.\u001b[0m\u001b[0mmode\u001b[0m\u001b[1;33m,\u001b[0m\u001b[1;33m\u001b[0m\u001b[1;33m\u001b[0m\u001b[0m\n\u001b[0;32m    182\u001b[0m                 \u001b[0mencoding\u001b[0m\u001b[1;33m=\u001b[0m\u001b[0mself\u001b[0m\u001b[1;33m.\u001b[0m\u001b[0mencoding\u001b[0m\u001b[1;33m,\u001b[0m\u001b[1;33m\u001b[0m\u001b[1;33m\u001b[0m\u001b[0m\n\u001b[1;32m--> 183\u001b[1;33m                 \u001b[0mcompression\u001b[0m\u001b[1;33m=\u001b[0m\u001b[0mself\u001b[0m\u001b[1;33m.\u001b[0m\u001b[0mcompression\u001b[0m\u001b[1;33m,\u001b[0m\u001b[1;33m\u001b[0m\u001b[1;33m\u001b[0m\u001b[0m\n\u001b[0m\u001b[0;32m    184\u001b[0m             )\n\u001b[0;32m    185\u001b[0m             \u001b[0mclose\u001b[0m \u001b[1;33m=\u001b[0m \u001b[1;32mTrue\u001b[0m\u001b[1;33m\u001b[0m\u001b[1;33m\u001b[0m\u001b[0m\n",
      "\u001b[1;32m~\\AppData\\Local\\Continuum\\anaconda3\\lib\\site-packages\\pandas\\io\\common.py\u001b[0m in \u001b[0;36m_get_handle\u001b[1;34m(path_or_buf, mode, encoding, compression, memory_map, is_text)\u001b[0m\n\u001b[0;32m    397\u001b[0m         \u001b[1;32mif\u001b[0m \u001b[0mencoding\u001b[0m\u001b[1;33m:\u001b[0m\u001b[1;33m\u001b[0m\u001b[1;33m\u001b[0m\u001b[0m\n\u001b[0;32m    398\u001b[0m             \u001b[1;31m# Encoding\u001b[0m\u001b[1;33m\u001b[0m\u001b[1;33m\u001b[0m\u001b[1;33m\u001b[0m\u001b[0m\n\u001b[1;32m--> 399\u001b[1;33m             \u001b[0mf\u001b[0m \u001b[1;33m=\u001b[0m \u001b[0mopen\u001b[0m\u001b[1;33m(\u001b[0m\u001b[0mpath_or_buf\u001b[0m\u001b[1;33m,\u001b[0m \u001b[0mmode\u001b[0m\u001b[1;33m,\u001b[0m \u001b[0mencoding\u001b[0m\u001b[1;33m=\u001b[0m\u001b[0mencoding\u001b[0m\u001b[1;33m,\u001b[0m \u001b[0mnewline\u001b[0m\u001b[1;33m=\u001b[0m\u001b[1;34m\"\"\u001b[0m\u001b[1;33m)\u001b[0m\u001b[1;33m\u001b[0m\u001b[1;33m\u001b[0m\u001b[0m\n\u001b[0m\u001b[0;32m    400\u001b[0m         \u001b[1;32melif\u001b[0m \u001b[0mis_text\u001b[0m\u001b[1;33m:\u001b[0m\u001b[1;33m\u001b[0m\u001b[1;33m\u001b[0m\u001b[0m\n\u001b[0;32m    401\u001b[0m             \u001b[1;31m# No explicit encoding\u001b[0m\u001b[1;33m\u001b[0m\u001b[1;33m\u001b[0m\u001b[1;33m\u001b[0m\u001b[0m\n",
      "\u001b[1;31mPermissionError\u001b[0m: [Errno 13] Permission denied: 'demand_out.csv'"
     ]
    }
   ],
   "source": [
    "# write demand dataframe to csv file \n",
    "file_name = 'demand_out.csv'\n",
    "df.to_csv(file_name)"
   ]
  },
  {
   "cell_type": "code",
   "execution_count": 17,
   "metadata": {},
   "outputs": [],
   "source": [
    "# read demand dataframe from csv\n",
    "filename_in = \"demand_in.csv\"\n",
    "df_new = pd.read_csv(filename_in)"
   ]
  },
  {
   "cell_type": "code",
   "execution_count": 18,
   "metadata": {},
   "outputs": [
    {
     "name": "stdout",
     "output_type": "stream",
     "text": [
      "    Unnamed: 0          node  commodity   level  year  time      value unit\n",
      "0            0  South Africa     i_feed  useful  2010  year   5.305206  GWa\n",
      "1            1  South Africa     i_feed  useful  2020  year   5.686637  GWa\n",
      "2            2  South Africa     i_feed  useful  2030  year   6.969126  GWa\n",
      "3            3  South Africa     i_feed  useful  2040  year   8.235436  GWa\n",
      "4            4  South Africa     i_feed  useful  2050  year   9.413720  GWa\n",
      "5            5  South Africa     i_feed  useful  2060  year  10.092595  GWa\n",
      "6            6  South Africa     i_feed  useful  2070  year  10.563926  GWa\n",
      "7            7  South Africa     i_spec  useful  2010  year   9.796942  GWa\n",
      "8            8  South Africa     i_spec  useful  2020  year  13.426834  GWa\n",
      "9            9  South Africa     i_spec  useful  2030  year  18.276383  GWa\n",
      "10          10  South Africa     i_spec  useful  2040  year  23.381161  GWa\n",
      "11          11  South Africa     i_spec  useful  2050  year  27.550996  GWa\n",
      "12          12  South Africa     i_spec  useful  2060  year  30.295287  GWa\n",
      "13          13  South Africa     i_spec  useful  2070  year  32.396961  GWa\n",
      "14          14  South Africa    i_therm  useful  2010  year   8.721247  GWa\n",
      "15          15  South Africa    i_therm  useful  2020  year  11.341493  GWa\n",
      "16          16  South Africa    i_therm  useful  2030  year  14.122878  GWa\n",
      "17          17  South Africa    i_therm  useful  2040  year  17.173466  GWa\n",
      "18          18  South Africa    i_therm  useful  2050  year  19.489494  GWa\n",
      "19          19  South Africa    i_therm  useful  2060  year  20.765410  GWa\n",
      "20          20  South Africa    i_therm  useful  2070  year  21.617666  GWa\n",
      "21          21  South Africa    rc_spec  useful  2010  year   3.801492  GWa\n",
      "22          22  South Africa    rc_spec  useful  2020  year   7.222510  GWa\n",
      "23          23  South Africa    rc_spec  useful  2030  year  12.783506  GWa\n",
      "24          24  South Africa    rc_spec  useful  2040  year  20.845020  GWa\n",
      "25          25  South Africa    rc_spec  useful  2050  year  30.716337  GWa\n",
      "26          26  South Africa    rc_spec  useful  2060  year  39.259466  GWa\n",
      "27          27  South Africa    rc_spec  useful  2070  year  46.831272  GWa\n",
      "28          28  South Africa   rc_therm  useful  2010  year   4.321114  GWa\n",
      "29          29  South Africa   rc_therm  useful  2020  year   7.682641  GWa\n",
      "30          30  South Africa   rc_therm  useful  2030  year   7.604841  GWa\n",
      "31          31  South Africa   rc_therm  useful  2040  year   7.301724  GWa\n",
      "32          32  South Africa   rc_therm  useful  2050  year   7.229152  GWa\n",
      "33          33  South Africa   rc_therm  useful  2060  year   6.724190  GWa\n",
      "34          34  South Africa   rc_therm  useful  2070  year   6.107550  GWa\n",
      "35          35  South Africa  transport  useful  2010  year  19.463755  GWa\n",
      "36          36  South Africa  transport  useful  2020  year  25.969767  GWa\n",
      "37          37  South Africa  transport  useful  2030  year  35.476870  GWa\n",
      "38          38  South Africa  transport  useful  2040  year  48.021905  GWa\n",
      "39          39  South Africa  transport  useful  2050  year  61.642921  GWa\n",
      "40          40  South Africa  transport  useful  2060  year  72.288994  GWa\n",
      "41          41  South Africa  transport  useful  2070  year  81.287827  GWa\n",
      "            node  commodity   level  year  time      value unit\n",
      "0   South Africa     i_feed  useful  2010  year   5.305206  GWa\n",
      "1   South Africa     i_feed  useful  2020  year   5.686637  GWa\n",
      "2   South Africa     i_feed  useful  2030  year   6.773633  GWa\n",
      "3   South Africa     i_feed  useful  2040  year   7.523378  GWa\n",
      "4   South Africa     i_feed  useful  2050  year   8.152132  GWa\n",
      "5   South Africa     i_feed  useful  2060  year   8.780886  GWa\n",
      "6   South Africa     i_feed  useful  2070  year   9.409639  GWa\n",
      "7   South Africa     i_spec  useful  2010  year   9.796942  GWa\n",
      "8   South Africa     i_spec  useful  2020  year  13.426834  GWa\n",
      "9   South Africa     i_spec  useful  2030  year  17.763708  GWa\n",
      "10  South Africa     i_spec  useful  2040  year  21.359564  GWa\n",
      "11  South Africa     i_spec  useful  2050  year  23.858725  GWa\n",
      "12  South Africa     i_spec  useful  2060  year  26.357885  GWa\n",
      "13  South Africa     i_spec  useful  2070  year  28.857046  GWa\n",
      "14  South Africa    i_therm  useful  2010  year   8.721247  GWa\n",
      "15  South Africa    i_therm  useful  2020  year  11.341493  GWa\n",
      "16  South Africa    i_therm  useful  2030  year  13.726714  GWa\n",
      "17  South Africa    i_therm  useful  2040  year  15.688603  GWa\n",
      "18  South Africa    i_therm  useful  2050  year  16.877592  GWa\n",
      "19  South Africa    i_therm  useful  2060  year  18.066582  GWa\n",
      "20  South Africa    i_therm  useful  2070  year  19.255571  GWa\n",
      "21  South Africa    rc_spec  useful  2010  year   3.801491  GWa\n",
      "22  South Africa    rc_spec  useful  2020  year   7.222510  GWa\n",
      "23  South Africa    rc_spec  useful  2030  year  12.424913  GWa\n",
      "24  South Africa    rc_spec  useful  2040  year  19.042704  GWa\n",
      "25  South Africa    rc_spec  useful  2050  year  26.599859  GWa\n",
      "26  South Africa    rc_spec  useful  2060  year  34.157013  GWa\n",
      "27  South Africa    rc_spec  useful  2070  year  41.714165  GWa\n",
      "28  South Africa   rc_therm  useful  2010  year   4.321114  GWa\n",
      "29  South Africa   rc_therm  useful  2020  year   7.682641  GWa\n",
      "30  South Africa   rc_therm  useful  2030  year   7.391515  GWa\n",
      "31  South Africa   rc_therm  useful  2040  year   6.670397  GWa\n",
      "32  South Africa   rc_therm  useful  2050  year   6.260331  GWa\n",
      "33  South Africa   rc_therm  useful  2060  year   5.850264  GWa\n",
      "34  South Africa   rc_therm  useful  2070  year   5.440197  GWa\n",
      "35  South Africa  transport  useful  2010  year  19.463755  GWa\n",
      "36  South Africa  transport  useful  2020  year  25.969767  GWa\n",
      "37  South Africa  transport  useful  2030  year  34.481701  GWa\n",
      "38  South Africa  transport  useful  2040  year  43.869804  GWa\n",
      "39  South Africa  transport  useful  2050  year  53.381790  GWa\n",
      "40  South Africa  transport  useful  2060  year  62.893776  GWa\n",
      "41  South Africa  transport  useful  2070  year  72.405762  GWa\n"
     ]
    }
   ],
   "source": [
    "print(df_new)\n",
    "print(df)"
   ]
  },
  {
   "cell_type": "code",
   "execution_count": 20,
   "metadata": {},
   "outputs": [],
   "source": [
    "# add new demand to ixmp \n",
    "scen.add_par('demand', df_new)"
   ]
  },
  {
   "cell_type": "code",
   "execution_count": 21,
   "metadata": {},
   "outputs": [],
   "source": [
    "# commit changed scenario to ixmp\n",
    "scen.commit('adjusted South Africa demand')"
   ]
  },
  {
   "cell_type": "code",
   "execution_count": 22,
   "metadata": {},
   "outputs": [],
   "source": [
    "# solve changed South Africa scenario\n",
    "scen.solve()"
   ]
  },
  {
   "cell_type": "code",
   "execution_count": 34,
   "metadata": {},
   "outputs": [
    {
     "name": "stdout",
     "output_type": "stream",
     "text": [
      "          node_loc  technology  year_vtg  year_act mode  time  lvl  \\\n",
      "0     South Africa   bio_istig      1990      2010   M1  year  0.0   \n",
      "1     South Africa   bio_istig      1995      2010   M1  year  0.0   \n",
      "2     South Africa   bio_istig      1995      2020   M1  year  0.0   \n",
      "3     South Africa   bio_istig      2000      2010   M1  year  0.0   \n",
      "4     South Africa   bio_istig      2000      2020   M1  year  0.0   \n",
      "...            ...         ...       ...       ...  ...   ...  ...   \n",
      "1406  South Africa  shale_extr      2030      2030   M1  year  0.0   \n",
      "1407  South Africa  shale_extr      2040      2040   M1  year  0.0   \n",
      "1408  South Africa  shale_extr      2050      2050   M1  year  0.0   \n",
      "1409  South Africa  shale_extr      2060      2060   M1  year  0.0   \n",
      "1410  South Africa  shale_extr      2070      2070   M1  year  0.0   \n",
      "\n",
      "               mrg  \n",
      "0         0.000000  \n",
      "1         0.000000  \n",
      "2        91.505898  \n",
      "3         0.000000  \n",
      "4        91.505898  \n",
      "...            ...  \n",
      "1406  20786.884766  \n",
      "1407  12739.311523  \n",
      "1408   7798.800781  \n",
      "1409   4765.755371  \n",
      "1410   2903.728760  \n",
      "\n",
      "[1411 rows x 8 columns]\n",
      "          node_loc  technology  year_vtg  year_act mode  time  lvl  \\\n",
      "0     South Africa   bio_istig      1990      2010   M1  year  0.0   \n",
      "1     South Africa   bio_istig      1995      2010   M1  year  0.0   \n",
      "2     South Africa   bio_istig      1995      2020   M1  year  0.0   \n",
      "3     South Africa   bio_istig      2000      2010   M1  year  0.0   \n",
      "4     South Africa   bio_istig      2000      2020   M1  year  0.0   \n",
      "...            ...         ...       ...       ...  ...   ...  ...   \n",
      "1406  South Africa  shale_extr      2030      2030   M1  year  0.0   \n",
      "1407  South Africa  shale_extr      2040      2040   M1  year  0.0   \n",
      "1408  South Africa  shale_extr      2050      2050   M1  year  0.0   \n",
      "1409  South Africa  shale_extr      2060      2060   M1  year  0.0   \n",
      "1410  South Africa  shale_extr      2070      2070   M1  year  0.0   \n",
      "\n",
      "               mrg  \n",
      "0         0.000000  \n",
      "1         0.000000  \n",
      "2        88.681053  \n",
      "3         0.000000  \n",
      "4        88.681053  \n",
      "...            ...  \n",
      "1406  20786.884766  \n",
      "1407  12739.311523  \n",
      "1408   7798.800781  \n",
      "1409   4765.755371  \n",
      "1410   2903.728760  \n",
      "\n",
      "[1411 rows x 8 columns]\n"
     ]
    }
   ],
   "source": [
    "# look at activity variable\n",
    "print(scen.var('ACT'))\n",
    "print(base.var('ACT'))"
   ]
  },
  {
   "cell_type": "code",
   "execution_count": 40,
   "metadata": {},
   "outputs": [
    {
     "data": {
      "text/plain": [
       "array(['OBJ', 'EXT', 'STOCK', 'CAP_NEW', 'CAP', 'ACT', 'EMISS', 'LAND',\n",
       "       'REL', 'DEMAND', 'PRICE_COMMODITY', 'PRICE_EMISSION', 'COST_NODAL',\n",
       "       'COST_NODAL_NET', 'GDP', 'I', 'C'], dtype='<U15')"
      ]
     },
     "execution_count": 40,
     "metadata": {},
     "output_type": "execute_result"
    }
   ],
   "source": [
    "#print(scen.par('demand'))\n",
    "#print(base.par('demand'))\n",
    "#scen.to_excel('testOut.xlsx')\n",
    "#shale_cost = [1, 10, 30, 1000]\n",
    "#carbon_cost = [0, 5, 15, 30]\n",
    "#results_to_xlsx(base, baseline, database, shale_cost, carbon_cost)\n",
    "scen.var_list()"
   ]
  },
  {
   "cell_type": "code",
   "execution_count": 43,
   "metadata": {},
   "outputs": [
    {
     "name": "stdout",
     "output_type": "stream",
     "text": [
      "            node emission type_tec  year          lvl  mrg\n",
      "0          World      CO2      all  2020   514.156433  0.0\n",
      "1          World      CO2      all  2030   667.999084  0.0\n",
      "2          World      CO2      all  2040   799.776489  0.0\n",
      "3          World      CO2      all  2050   983.611633  0.0\n",
      "4          World      CO2      all  2060  1148.497925  0.0\n",
      "5          World      CO2      all  2070  1358.277588  0.0\n",
      "6          World      CH4      all  2020    13.374521  0.0\n",
      "7          World      CH4      all  2030    15.824888  0.0\n",
      "8          World      CH4      all  2040    17.802063  0.0\n",
      "9          World      CH4      all  2050    21.195494  0.0\n",
      "10         World      CH4      all  2060    24.418303  0.0\n",
      "11         World      CH4      all  2070    29.362133  0.0\n",
      "12  South Africa      CO2      all  2020   514.156433  0.0\n",
      "13  South Africa      CO2      all  2030   667.999084  0.0\n",
      "14  South Africa      CO2      all  2040   799.776489  0.0\n",
      "15  South Africa      CO2      all  2050   983.611633  0.0\n",
      "16  South Africa      CO2      all  2060  1148.497925  0.0\n",
      "17  South Africa      CO2      all  2070  1358.277588  0.0\n",
      "18  South Africa      CH4      all  2020    13.374521  0.0\n",
      "19  South Africa      CH4      all  2030    15.824888  0.0\n",
      "20  South Africa      CH4      all  2040    17.802063  0.0\n",
      "21  South Africa      CH4      all  2050    21.195494  0.0\n",
      "22  South Africa      CH4      all  2060    24.418303  0.0\n",
      "23  South Africa      CH4      all  2070    29.362133  0.0\n"
     ]
    }
   ],
   "source": [
    "print( scen.var('EMISS'))"
   ]
  },
  {
   "cell_type": "code",
   "execution_count": null,
   "metadata": {},
   "outputs": [],
   "source": [
    "# close ixmp connection\n",
    "mp.close_db()"
   ]
  },
  {
   "cell_type": "code",
   "execution_count": null,
   "metadata": {},
   "outputs": [],
   "source": []
  }
 ],
 "metadata": {
  "kernelspec": {
   "display_name": "Python 3",
   "language": "python",
   "name": "python3"
  },
  "language_info": {
   "codemirror_mode": {
    "name": "ipython",
    "version": 3
   },
   "file_extension": ".py",
   "mimetype": "text/x-python",
   "name": "python",
   "nbconvert_exporter": "python",
   "pygments_lexer": "ipython3",
   "version": "3.7.4"
  }
 },
 "nbformat": 4,
 "nbformat_minor": 4
}
